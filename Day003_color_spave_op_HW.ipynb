{
 "cells": [
  {
   "cell_type": "code",
   "execution_count": 3,
   "metadata": {},
   "outputs": [],
   "source": [
    "import cv2\n",
    "\n",
    "img_path = 'lena.png'\n",
    "\n",
    "img = cv2.imread(img_path, cv2.IMREAD_COLOR)\n",
    "\n",
    "img_c = cv2.convertScaleAbs(img, alpha =2.0, beta=0)\n",
    "img_c2 = cv2.convertScaleAbs(img, alpha =1.0, beta=50)\n",
    "\n",
    "while True:\n",
    "    \n",
    "    cv2.imshow('bgr', img)\n",
    "    cv2.imshow('alpha = 2.0 beta = 0', img_c)\n",
    "    cv2.imshow('alpha = 1.0 beta = 50', img_c2)\n",
    "    \n",
    "    k = cv2.waitKey(0)\n",
    "    if k == 27:\n",
    "        cv2.destroyAllWindows()\n",
    "        break\n"
   ]
  },
  {
   "cell_type": "code",
   "execution_count": null,
   "metadata": {},
   "outputs": [],
   "source": []
  }
 ],
 "metadata": {
  "kernelspec": {
   "display_name": "Python 3",
   "language": "python",
   "name": "python3"
  },
  "language_info": {
   "codemirror_mode": {
    "name": "ipython",
    "version": 3
   },
   "file_extension": ".py",
   "mimetype": "text/x-python",
   "name": "python",
   "nbconvert_exporter": "python",
   "pygments_lexer": "ipython3",
   "version": "3.7.6"
  }
 },
 "nbformat": 4,
 "nbformat_minor": 4
}
